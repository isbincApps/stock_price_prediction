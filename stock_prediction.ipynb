{
  "nbformat": 4,
  "nbformat_minor": 0,
  "metadata": {
    "colab": {
      "name": "stock_prediction.ipynb",
      "version": "0.3.2",
      "provenance": [],
      "collapsed_sections": []
    },
    "kernelspec": {
      "name": "python3",
      "display_name": "Python 3"
    }
  },
  "cells": [
    {
      "cell_type": "code",
      "metadata": {
        "id": "kjQec6UGiP7w",
        "colab_type": "code",
        "colab": {
          "base_uri": "https://localhost:8080/",
          "height": 233
        },
        "outputId": "71c5c7f5-8c3e-481b-d146-16be321283ae"
      },
      "source": [
        "import pandas as pd\n",
        "import datetime\n",
        "import pandas_datareader.data as web\n",
        "from pandas import Series, DataFrame\n",
        "\n",
        "\n",
        "start = datetime.datetime(2010, 1, 1)\n",
        "end = datetime.datetime(2019, 8, 30)\n",
        "\n",
        "df = web.DataReader(\"AAPL\", 'yahoo', start, end)\n",
        "df.tail()"
      ],
      "execution_count": 62,
      "outputs": [
        {
          "output_type": "execute_result",
          "data": {
            "text/html": [
              "<div>\n",
              "<style scoped>\n",
              "    .dataframe tbody tr th:only-of-type {\n",
              "        vertical-align: middle;\n",
              "    }\n",
              "\n",
              "    .dataframe tbody tr th {\n",
              "        vertical-align: top;\n",
              "    }\n",
              "\n",
              "    .dataframe thead th {\n",
              "        text-align: right;\n",
              "    }\n",
              "</style>\n",
              "<table border=\"1\" class=\"dataframe\">\n",
              "  <thead>\n",
              "    <tr style=\"text-align: right;\">\n",
              "      <th></th>\n",
              "      <th>High</th>\n",
              "      <th>Low</th>\n",
              "      <th>Open</th>\n",
              "      <th>Close</th>\n",
              "      <th>Volume</th>\n",
              "      <th>Adj Close</th>\n",
              "    </tr>\n",
              "    <tr>\n",
              "      <th>Date</th>\n",
              "      <th></th>\n",
              "      <th></th>\n",
              "      <th></th>\n",
              "      <th></th>\n",
              "      <th></th>\n",
              "      <th></th>\n",
              "    </tr>\n",
              "  </thead>\n",
              "  <tbody>\n",
              "    <tr>\n",
              "      <th>2019-08-26</th>\n",
              "      <td>207.190002</td>\n",
              "      <td>205.059998</td>\n",
              "      <td>205.860001</td>\n",
              "      <td>206.490005</td>\n",
              "      <td>26043600.0</td>\n",
              "      <td>206.490005</td>\n",
              "    </tr>\n",
              "    <tr>\n",
              "      <th>2019-08-27</th>\n",
              "      <td>208.550003</td>\n",
              "      <td>203.529999</td>\n",
              "      <td>207.860001</td>\n",
              "      <td>204.160004</td>\n",
              "      <td>25873300.0</td>\n",
              "      <td>204.160004</td>\n",
              "    </tr>\n",
              "    <tr>\n",
              "      <th>2019-08-28</th>\n",
              "      <td>205.720001</td>\n",
              "      <td>203.320007</td>\n",
              "      <td>204.100006</td>\n",
              "      <td>205.529999</td>\n",
              "      <td>15938800.0</td>\n",
              "      <td>205.529999</td>\n",
              "    </tr>\n",
              "    <tr>\n",
              "      <th>2019-08-29</th>\n",
              "      <td>209.320007</td>\n",
              "      <td>206.660004</td>\n",
              "      <td>208.500000</td>\n",
              "      <td>209.009995</td>\n",
              "      <td>20990500.0</td>\n",
              "      <td>209.009995</td>\n",
              "    </tr>\n",
              "    <tr>\n",
              "      <th>2019-08-30</th>\n",
              "      <td>210.449997</td>\n",
              "      <td>207.199997</td>\n",
              "      <td>210.160004</td>\n",
              "      <td>208.740005</td>\n",
              "      <td>21143400.0</td>\n",
              "      <td>208.740005</td>\n",
              "    </tr>\n",
              "  </tbody>\n",
              "</table>\n",
              "</div>"
            ],
            "text/plain": [
              "                  High         Low  ...      Volume   Adj Close\n",
              "Date                                ...                        \n",
              "2019-08-26  207.190002  205.059998  ...  26043600.0  206.490005\n",
              "2019-08-27  208.550003  203.529999  ...  25873300.0  204.160004\n",
              "2019-08-28  205.720001  203.320007  ...  15938800.0  205.529999\n",
              "2019-08-29  209.320007  206.660004  ...  20990500.0  209.009995\n",
              "2019-08-30  210.449997  207.199997  ...  21143400.0  208.740005\n",
              "\n",
              "[5 rows x 6 columns]"
            ]
          },
          "metadata": {
            "tags": []
          },
          "execution_count": 62
        }
      ]
    },
    {
      "cell_type": "code",
      "metadata": {
        "id": "uBh0DjNAi4D6",
        "colab_type": "code",
        "colab": {
          "base_uri": "https://localhost:8080/",
          "height": 233
        },
        "outputId": "4d15de42-073e-4678-f9cf-3d884f938b58"
      },
      "source": [
        "dfreg = df.loc[:,['Adj Close','Volume']]\n",
        "dfreg['HL_PCT'] = (df['High'] - df['Low']) / df['Close'] * 100.0\n",
        "dfreg['PCT_change'] = (df['Close'] - df['Open']) / df['Open'] * 100.0\n",
        "\n",
        "dfreg.tail()"
      ],
      "execution_count": 63,
      "outputs": [
        {
          "output_type": "execute_result",
          "data": {
            "text/html": [
              "<div>\n",
              "<style scoped>\n",
              "    .dataframe tbody tr th:only-of-type {\n",
              "        vertical-align: middle;\n",
              "    }\n",
              "\n",
              "    .dataframe tbody tr th {\n",
              "        vertical-align: top;\n",
              "    }\n",
              "\n",
              "    .dataframe thead th {\n",
              "        text-align: right;\n",
              "    }\n",
              "</style>\n",
              "<table border=\"1\" class=\"dataframe\">\n",
              "  <thead>\n",
              "    <tr style=\"text-align: right;\">\n",
              "      <th></th>\n",
              "      <th>Adj Close</th>\n",
              "      <th>Volume</th>\n",
              "      <th>HL_PCT</th>\n",
              "      <th>PCT_change</th>\n",
              "    </tr>\n",
              "    <tr>\n",
              "      <th>Date</th>\n",
              "      <th></th>\n",
              "      <th></th>\n",
              "      <th></th>\n",
              "      <th></th>\n",
              "    </tr>\n",
              "  </thead>\n",
              "  <tbody>\n",
              "    <tr>\n",
              "      <th>2019-08-26</th>\n",
              "      <td>206.490005</td>\n",
              "      <td>26043600.0</td>\n",
              "      <td>1.031529</td>\n",
              "      <td>0.306036</td>\n",
              "    </tr>\n",
              "    <tr>\n",
              "      <th>2019-08-27</th>\n",
              "      <td>204.160004</td>\n",
              "      <td>25873300.0</td>\n",
              "      <td>2.458858</td>\n",
              "      <td>-1.780043</td>\n",
              "    </tr>\n",
              "    <tr>\n",
              "      <th>2019-08-28</th>\n",
              "      <td>205.529999</td>\n",
              "      <td>15938800.0</td>\n",
              "      <td>1.167710</td>\n",
              "      <td>0.700633</td>\n",
              "    </tr>\n",
              "    <tr>\n",
              "      <th>2019-08-29</th>\n",
              "      <td>209.009995</td>\n",
              "      <td>20990500.0</td>\n",
              "      <td>1.272668</td>\n",
              "      <td>0.244602</td>\n",
              "    </tr>\n",
              "    <tr>\n",
              "      <th>2019-08-30</th>\n",
              "      <td>208.740005</td>\n",
              "      <td>21143400.0</td>\n",
              "      <td>1.556961</td>\n",
              "      <td>-0.675675</td>\n",
              "    </tr>\n",
              "  </tbody>\n",
              "</table>\n",
              "</div>"
            ],
            "text/plain": [
              "             Adj Close      Volume    HL_PCT  PCT_change\n",
              "Date                                                    \n",
              "2019-08-26  206.490005  26043600.0  1.031529    0.306036\n",
              "2019-08-27  204.160004  25873300.0  2.458858   -1.780043\n",
              "2019-08-28  205.529999  15938800.0  1.167710    0.700633\n",
              "2019-08-29  209.009995  20990500.0  1.272668    0.244602\n",
              "2019-08-30  208.740005  21143400.0  1.556961   -0.675675"
            ]
          },
          "metadata": {
            "tags": []
          },
          "execution_count": 63
        }
      ]
    },
    {
      "cell_type": "code",
      "metadata": {
        "id": "cPnIyn5ZlSXs",
        "colab_type": "code",
        "colab": {}
      },
      "source": [
        "from sklearn.linear_model import LinearRegression\n",
        "from sklearn.neighbors import KNeighborsRegressor\n",
        "from sklearn import preprocessing\n",
        "from sklearn.linear_model import Ridge\n",
        "from sklearn.preprocessing import PolynomialFeatures\n",
        "from sklearn.pipeline import make_pipeline\n",
        "import math\n",
        "import numpy as np\n",
        "import matplotlib.pyplot as plt\n",
        "from matplotlib import style\n",
        "\n"
      ],
      "execution_count": 0,
      "outputs": []
    },
    {
      "cell_type": "code",
      "metadata": {
        "id": "hzH9CY4vjy7A",
        "colab_type": "code",
        "colab": {
          "base_uri": "https://localhost:8080/",
          "height": 35
        },
        "outputId": "155f5e5c-65e9-4cf3-f0fd-cbc35d432662"
      },
      "source": [
        "# Drop missing value\n",
        "dfreg.fillna(value=-99999, inplace=True)\n",
        "# We want to separate 1 percent of the data to forecast\n",
        "forecast_out = int(math.ceil(0.01 * len(dfreg)))\n",
        "print('el forecast out', forecast_out)\n",
        "# Separating the label here, we want to predict the AdjClose\n",
        "forecast_col = 'Adj Close'\n",
        "dfreg['label'] = dfreg[forecast_col].shift(-forecast_out)\n",
        "X = np.array(dfreg.drop(['label'], 1))\n",
        "# print('el array', X)\n",
        "# Scale the X so that everyone can have the same distribution for linear regression\n",
        "X = preprocessing.scale(X)\n",
        "# Finally We want to find Data Series of late X and early X (train) for model generation and evaluation\n",
        "X_forecast = X[-forecast_out:] # set X_forecast equal to last 30\n",
        "X = X[:-forecast_out]\n",
        "\n",
        "\n",
        "y = np.array(dfreg['label'])\n",
        "y = y[:-forecast_out]\n"
      ],
      "execution_count": 64,
      "outputs": [
        {
          "output_type": "stream",
          "text": [
            "el forecast out 25\n"
          ],
          "name": "stdout"
        }
      ]
    },
    {
      "cell_type": "code",
      "metadata": {
        "id": "V_BA81MQtSD-",
        "colab_type": "code",
        "colab": {}
      },
      "source": [
        "from sklearn.model_selection import train_test_split\n",
        "\n",
        "x_train, x_test, y_train, y_test = train_test_split(X, y, test_size = 0.01)\n"
      ],
      "execution_count": 0,
      "outputs": []
    },
    {
      "cell_type": "code",
      "metadata": {
        "id": "OPfl3AucmwiI",
        "colab_type": "code",
        "colab": {
          "base_uri": "https://localhost:8080/",
          "height": 69
        },
        "outputId": "8f43cb2f-6954-4dce-b8e0-31706b2f28ad"
      },
      "source": [
        "\n",
        "# Linear regression\n",
        "clfreg = LinearRegression()\n",
        "clfreg.fit(x_train, y_train)\n",
        "# Quadratic Regression 2\n",
        "clfpoly2 = make_pipeline(PolynomialFeatures(2), Ridge())\n",
        "clfpoly2.fit(x_train, y_train)\n",
        "\n",
        "# Quadratic Regression 3\n",
        "clfpoly3 = make_pipeline(PolynomialFeatures(3), Ridge())\n",
        "clfpoly3.fit(x_train, y_train)\n",
        "\n",
        "# KNN Regression\n",
        "clfknn = KNeighborsRegressor(n_neighbors=2)\n",
        "clfknn.fit(x_train, y_train)\n"
      ],
      "execution_count": 66,
      "outputs": [
        {
          "output_type": "execute_result",
          "data": {
            "text/plain": [
              "KNeighborsRegressor(algorithm='auto', leaf_size=30, metric='minkowski',\n",
              "                    metric_params=None, n_jobs=None, n_neighbors=2, p=2,\n",
              "                    weights='uniform')"
            ]
          },
          "metadata": {
            "tags": []
          },
          "execution_count": 66
        }
      ]
    },
    {
      "cell_type": "code",
      "metadata": {
        "id": "kzvrnho0qpuz",
        "colab_type": "code",
        "colab": {
          "base_uri": "https://localhost:8080/",
          "height": 87
        },
        "outputId": "84bec78f-0cc5-4b68-fa6d-e9c49df7f7e6"
      },
      "source": [
        "confidencereg = clfreg.score(x_test, y_test)\n",
        "confidencepoly2 = clfpoly2.score(x_test,y_test)\n",
        "confidencepoly3 = clfpoly3.score(x_test,y_test)\n",
        "confidenceknn = clfknn.score(x_test, y_test)\n",
        "print('The linear regression confidence is ', confidencereg)\n",
        "print('The quadratic regression 2 confidence is ', confidencepoly2)\n",
        "print('The quadratic regression 3 confidence is ', confidencepoly3)\n",
        "print('The knn regression confidence is ', confidenceknn)"
      ],
      "execution_count": 67,
      "outputs": [
        {
          "output_type": "stream",
          "text": [
            "The linear regression confidence is  0.8884778908845931\n",
            "The quadratic regression 2 confidence is  0.9044270689160371\n",
            "The quadratic regression 3 confidence is  0.9295448369078014\n",
            "The knn regression confidence is  0.9389071441215203\n"
          ],
          "name": "stdout"
        }
      ]
    },
    {
      "cell_type": "code",
      "metadata": {
        "id": "XXx4KGA2wLWf",
        "colab_type": "code",
        "colab": {
          "base_uri": "https://localhost:8080/",
          "height": 104
        },
        "outputId": "71fabc5a-29a5-42fd-ec23-58a0c4c81754"
      },
      "source": [
        "forecast_set = clfknn.predict(X_forecast)\n",
        "dfreg['Forecast'] = np.nan\n",
        "print('forecast', forecast_set)"
      ],
      "execution_count": 68,
      "outputs": [
        {
          "output_type": "stream",
          "text": [
            "forecast [211.58972168 215.49599457 183.55545807 191.75788879 185.6396637\n",
            " 156.64237213 200.87677765 159.41413116 182.32725525 208.36417389\n",
            " 215.49991608 178.78630829 186.29717255 192.14392853 188.28309631\n",
            " 218.43045044 215.67324829 219.41023254 215.21042633 176.01020813\n",
            " 218.54862976 200.46842957 207.60500336 215.51527405 189.52500916]\n"
          ],
          "name": "stdout"
        }
      ]
    },
    {
      "cell_type": "code",
      "metadata": {
        "id": "RJDrjVdNwsqm",
        "colab_type": "code",
        "colab": {
          "base_uri": "https://localhost:8080/",
          "height": 299
        },
        "outputId": "e08c15c8-0fa0-4f4b-fe6a-b03f3986e0aa"
      },
      "source": [
        "last_date = dfreg.iloc[-1].name\n",
        "print('last data', last_date)\n",
        "last_unix = last_date\n",
        "next_unix = last_unix + datetime.timedelta(days=1)\n",
        "\n",
        "for i in forecast_set:\n",
        "    next_date = next_unix\n",
        "    next_unix += datetime.timedelta(days=1)\n",
        "    dfreg.loc[next_date] = [np.nan for _ in range(len(dfreg.columns)-1)]+[i]\n",
        "dfreg['Adj Close'].tail(500).plot()\n",
        "dfreg['Forecast'].tail(500).plot()\n",
        "plt.legend(loc=4)\n",
        "plt.xlabel('Date')\n",
        "plt.ylabel('Price')\n",
        "plt.show()"
      ],
      "execution_count": 69,
      "outputs": [
        {
          "output_type": "stream",
          "text": [
            "last data 2019-08-30 00:00:00\n"
          ],
          "name": "stdout"
        },
        {
          "output_type": "display_data",
          "data": {
            "image/png": "[encoded data removed]",
            "text/plain": [
              "<Figure size 432x288 with 1 Axes>"
            ]
          },
          "metadata": {
            "tags": []
          }
        }
      ]
    }
  ]
}